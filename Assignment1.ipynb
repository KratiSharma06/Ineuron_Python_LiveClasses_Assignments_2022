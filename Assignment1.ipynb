{
 "cells": [
  {
   "cell_type": "code",
   "execution_count": 1,
   "id": "c8f896f6",
   "metadata": {},
   "outputs": [],
   "source": [
    "s = \"this is My First Python programming class and i am learNING python string and its function\""
   ]
  },
  {
   "cell_type": "markdown",
   "id": "4bdd1a4d",
   "metadata": {},
   "source": [
    "Q1 . Try to extract data from index one to index 300 with a jump of 3 ?"
   ]
  },
  {
   "cell_type": "code",
   "execution_count": 9,
   "id": "caa17fd4",
   "metadata": {
    "scrolled": true
   },
   "outputs": [
    {
     "data": {
      "text/plain": [
       "'tssyityopgmncsa alrNph rgni ni'"
      ]
     },
     "execution_count": 9,
     "metadata": {},
     "output_type": "execute_result"
    }
   ],
   "source": [
    "s[0:300:3]"
   ]
  },
  {
   "cell_type": "markdown",
   "id": "e3b71530",
   "metadata": {},
   "source": [
    "Q2. Try to reverse a string without using reverse function ?"
   ]
  },
  {
   "cell_type": "code",
   "execution_count": 10,
   "id": "a69da2da",
   "metadata": {},
   "outputs": [
    {
     "data": {
      "text/plain": [
       "'noitcnuf sti dna gnirts nohtyp GNINrael ma i dna ssalc gnimmargorp nohtyP tsriF yM si siht'"
      ]
     },
     "execution_count": 10,
     "metadata": {},
     "output_type": "execute_result"
    }
   ],
   "source": [
    "s[::-1]"
   ]
  },
  {
   "cell_type": "markdown",
   "id": "fdb0a027",
   "metadata": {},
   "source": [
    "Q3. Try to split a string after conversion of entire string in uppercase? "
   ]
  },
  {
   "cell_type": "code",
   "execution_count": 11,
   "id": "60e83351",
   "metadata": {},
   "outputs": [
    {
     "data": {
      "text/plain": [
       "'THIS IS MY FIRST PYTHON PROGRAMMING CLASS AND I AM LEARNING PYTHON STRING AND ITS FUNCTION'"
      ]
     },
     "execution_count": 11,
     "metadata": {},
     "output_type": "execute_result"
    }
   ],
   "source": [
    "s.upper()"
   ]
  },
  {
   "cell_type": "code",
   "execution_count": 12,
   "id": "4a5dddee",
   "metadata": {},
   "outputs": [
    {
     "data": {
      "text/plain": [
       "['this',\n",
       " 'is',\n",
       " 'My',\n",
       " 'First',\n",
       " 'Python',\n",
       " 'programming',\n",
       " 'class',\n",
       " 'and',\n",
       " 'i',\n",
       " 'am',\n",
       " 'learNING',\n",
       " 'python',\n",
       " 'string',\n",
       " 'and',\n",
       " 'its',\n",
       " 'function']"
      ]
     },
     "execution_count": 12,
     "metadata": {},
     "output_type": "execute_result"
    }
   ],
   "source": [
    "s.split()"
   ]
  },
  {
   "cell_type": "markdown",
   "id": "837adb4f",
   "metadata": {},
   "source": [
    "Q4. try to convert the whole string into lower case"
   ]
  },
  {
   "cell_type": "code",
   "execution_count": 13,
   "id": "c6b460f4",
   "metadata": {},
   "outputs": [
    {
     "data": {
      "text/plain": [
       "'this is my first python programming class and i am learning python string and its function'"
      ]
     },
     "execution_count": 13,
     "metadata": {},
     "output_type": "execute_result"
    }
   ],
   "source": [
    "s.lower()"
   ]
  },
  {
   "cell_type": "markdown",
   "id": "983c5956",
   "metadata": {},
   "source": [
    "Q5 Try to capitalize the whole string "
   ]
  },
  {
   "cell_type": "code",
   "execution_count": 8,
   "id": "ab128896",
   "metadata": {},
   "outputs": [
    {
     "data": {
      "text/plain": [
       "'This is my first python programming class and i am learning python string and its function'"
      ]
     },
     "execution_count": 8,
     "metadata": {},
     "output_type": "execute_result"
    }
   ],
   "source": [
    "s.capitalize()"
   ]
  },
  {
   "cell_type": "markdown",
   "id": "6ef40739",
   "metadata": {},
   "source": [
    "Q6 Write a diference between isalnum() and isalpha()"
   ]
  },
  {
   "cell_type": "code",
   "execution_count": 25,
   "id": "d7297305",
   "metadata": {},
   "outputs": [],
   "source": [
    "s =\"KratiSharma\""
   ]
  },
  {
   "cell_type": "code",
   "execution_count": 26,
   "id": "6959cd82",
   "metadata": {},
   "outputs": [],
   "source": [
    "s1 =\"Krati15Sharma16\""
   ]
  },
  {
   "cell_type": "code",
   "execution_count": 27,
   "id": "f3a56aef",
   "metadata": {},
   "outputs": [
    {
     "data": {
      "text/plain": [
       "True"
      ]
     },
     "execution_count": 27,
     "metadata": {},
     "output_type": "execute_result"
    }
   ],
   "source": [
    "s.isalnum()"
   ]
  },
  {
   "cell_type": "code",
   "execution_count": 28,
   "id": "66d5e49c",
   "metadata": {},
   "outputs": [
    {
     "data": {
      "text/plain": [
       "True"
      ]
     },
     "execution_count": 28,
     "metadata": {},
     "output_type": "execute_result"
    }
   ],
   "source": [
    "s1.isalnum()"
   ]
  },
  {
   "cell_type": "code",
   "execution_count": 21,
   "id": "847db4fe",
   "metadata": {},
   "outputs": [
    {
     "data": {
      "text/plain": [
       "True"
      ]
     },
     "execution_count": 21,
     "metadata": {},
     "output_type": "execute_result"
    }
   ],
   "source": [
    "s.isalpha()"
   ]
  },
  {
   "cell_type": "code",
   "execution_count": 29,
   "id": "723619a9",
   "metadata": {},
   "outputs": [
    {
     "data": {
      "text/plain": [
       "False"
      ]
     },
     "execution_count": 29,
     "metadata": {},
     "output_type": "execute_result"
    }
   ],
   "source": [
    "s1.isalpha()"
   ]
  },
  {
   "cell_type": "markdown",
   "id": "1932df12",
   "metadata": {},
   "source": [
    "Q7 Try to give an example of expand tab"
   ]
  },
  {
   "cell_type": "code",
   "execution_count": 30,
   "id": "79664b58",
   "metadata": {},
   "outputs": [],
   "source": [
    "s = \"Krati\\tSharma\""
   ]
  },
  {
   "cell_type": "code",
   "execution_count": 31,
   "id": "70ddf9a1",
   "metadata": {},
   "outputs": [
    {
     "data": {
      "text/plain": [
       "'Krati   Sharma'"
      ]
     },
     "execution_count": 31,
     "metadata": {},
     "output_type": "execute_result"
    }
   ],
   "source": [
    "s.expandtabs()"
   ]
  },
  {
   "cell_type": "markdown",
   "id": "57b5bbbc",
   "metadata": {},
   "source": [
    "Q8 Give an example of strip , lstrip and rstrip"
   ]
  },
  {
   "cell_type": "code",
   "execution_count": 34,
   "id": "ad9c574c",
   "metadata": {},
   "outputs": [],
   "source": [
    "s = \"      this is My First Python programming class and i am learNING python string and its function       \""
   ]
  },
  {
   "cell_type": "code",
   "execution_count": 35,
   "id": "b89f84b7",
   "metadata": {},
   "outputs": [
    {
     "data": {
      "text/plain": [
       "'this is My First Python programming class and i am learNING python string and its function'"
      ]
     },
     "execution_count": 35,
     "metadata": {},
     "output_type": "execute_result"
    }
   ],
   "source": [
    "s.strip()"
   ]
  },
  {
   "cell_type": "code",
   "execution_count": 36,
   "id": "1d015e77",
   "metadata": {},
   "outputs": [
    {
     "data": {
      "text/plain": [
       "'this is My First Python programming class and i am learNING python string and its function       '"
      ]
     },
     "execution_count": 36,
     "metadata": {},
     "output_type": "execute_result"
    }
   ],
   "source": [
    "s.lstrip()"
   ]
  },
  {
   "cell_type": "code",
   "execution_count": 37,
   "id": "fbb7a542",
   "metadata": {},
   "outputs": [
    {
     "data": {
      "text/plain": [
       "'      this is My First Python programming class and i am learNING python string and its function'"
      ]
     },
     "execution_count": 37,
     "metadata": {},
     "output_type": "execute_result"
    }
   ],
   "source": [
    "s.rstrip()"
   ]
  },
  {
   "cell_type": "markdown",
   "id": "6a87a98b",
   "metadata": {},
   "source": [
    "Q9 Replace a string charecter by another charector by taking your own example"
   ]
  },
  {
   "cell_type": "code",
   "execution_count": 38,
   "id": "72cb5a4e",
   "metadata": {},
   "outputs": [],
   "source": [
    "s = \"Krati Sharma\""
   ]
  },
  {
   "cell_type": "code",
   "execution_count": 42,
   "id": "b23367cb",
   "metadata": {},
   "outputs": [
    {
     "data": {
      "text/plain": [
       "'Krkti Shkrmk'"
      ]
     },
     "execution_count": 42,
     "metadata": {},
     "output_type": "execute_result"
    }
   ],
   "source": [
    "s.replace(\"a\", \"k\")"
   ]
  },
  {
   "cell_type": "markdown",
   "id": "6d99423b",
   "metadata": {},
   "source": [
    "Q10 Try  to give a defination of string center function with and exmple "
   ]
  },
  {
   "cell_type": "code",
   "execution_count": 43,
   "id": "b499817c",
   "metadata": {},
   "outputs": [],
   "source": [
    "s = \"Krati\""
   ]
  },
  {
   "cell_type": "code",
   "execution_count": 45,
   "id": "8b07b14a",
   "metadata": {},
   "outputs": [
    {
     "data": {
      "text/plain": [
       "'*******Krati********'"
      ]
     },
     "execution_count": 45,
     "metadata": {},
     "output_type": "execute_result"
    }
   ],
   "source": [
    "s.center(20, \"*\")"
   ]
  },
  {
   "cell_type": "markdown",
   "id": "36f3cbc2",
   "metadata": {},
   "source": [
    "It Returns a centered string of length width."
   ]
  },
  {
   "cell_type": "markdown",
   "id": "e0115abb",
   "metadata": {},
   "source": [
    "Q11 Write your own definition of compiler and interpretor without copy paste form internet in your own language"
   ]
  },
  {
   "cell_type": "markdown",
   "id": "ed362e18",
   "metadata": {},
   "source": [
    "Compiler - It compiles your High Level Language code into machine code(binary 0, 1 form) before program run and\n",
    "Interpreter - also converts your source code into machine code when program is in running state."
   ]
  },
  {
   "cell_type": "markdown",
   "id": "8c722a84",
   "metadata": {},
   "source": [
    "Q12 Python is a interpreted or compiled language give a clear ans with your understanding"
   ]
  },
  {
   "cell_type": "markdown",
   "id": "11346ca8",
   "metadata": {},
   "source": [
    "Python is an Interpreted language where we can run one statement of the program at a time into machine code whereas in compiled language, Compiler scans the entire program and translates the whole of it into machine code at once."
   ]
  },
  {
   "cell_type": "markdown",
   "id": "3e75bbb8",
   "metadata": {},
   "source": [
    "Q13 Try to write a usecase of python with your understanding ."
   ]
  },
  {
   "cell_type": "markdown",
   "id": "7867e16d",
   "metadata": {},
   "source": [
    "The main usecase of python is extract, process and manipulate data via various Python libraries, such as Pandas and SciPy"
   ]
  },
  {
   "cell_type": "code",
   "execution_count": null,
   "id": "ab3dba45",
   "metadata": {},
   "outputs": [],
   "source": []
  }
 ],
 "metadata": {
  "kernelspec": {
   "display_name": "Python 3 (ipykernel)",
   "language": "python",
   "name": "python3"
  },
  "language_info": {
   "codemirror_mode": {
    "name": "ipython",
    "version": 3
   },
   "file_extension": ".py",
   "mimetype": "text/x-python",
   "name": "python",
   "nbconvert_exporter": "python",
   "pygments_lexer": "ipython3",
   "version": "3.9.12"
  }
 },
 "nbformat": 4,
 "nbformat_minor": 5
}
