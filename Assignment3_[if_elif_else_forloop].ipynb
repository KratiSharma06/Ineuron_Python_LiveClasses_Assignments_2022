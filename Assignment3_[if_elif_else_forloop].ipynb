{
 "cells": [
  {
   "cell_type": "raw",
   "id": "ff479086",
   "metadata": {},
   "source": [
    "Q1 Print\n",
    "\n",
    "ineruon \n",
    "ineruon ineruon \n",
    "ineruon ineruon ineruon\n",
    "ineruon ineruon ineruon ineruon\n"
   ]
  },
  {
   "cell_type": "code",
   "execution_count": 4,
   "id": "24f4ada0",
   "metadata": {},
   "outputs": [
    {
     "name": "stdout",
     "output_type": "stream",
     "text": [
      "ineuron \n",
      "ineuron ineuron \n",
      "ineuron ineuron ineuron \n",
      "ineuron ineuron ineuron ineuron \n"
     ]
    }
   ],
   "source": [
    "n = 4\n",
    "for i in range(4) :\n",
    "    for j in range(0, i +1) :\n",
    "        print(\"ineuron\" , end =\" \")\n",
    "    print()   "
   ]
  },
  {
   "cell_type": "raw",
   "id": "f5c5a864",
   "metadata": {},
   "source": [
    "Q2\n",
    "\n",
    "          ineruon\n",
    "    ineruon      ineruon\n",
    "ineruon\t\tineruon \tineruon\n",
    "\tineruon\t\t ineruon\n",
    "\t\t  ineruon"
   ]
  },
  {
   "cell_type": "code",
   "execution_count": 23,
   "id": "f176b864",
   "metadata": {},
   "outputs": [
    {
     "name": "stdout",
     "output_type": "stream",
     "text": [
      "            ineuron   \n",
      "        ineuron   ineuron   \n",
      "    ineuron   ineuron   ineuron   \n",
      "        ineuron   ineuron   \n",
      "            ineuron   \n"
     ]
    }
   ],
   "source": [
    "rows = 2   \n",
    "k = 2 * rows - 1                         # It is used to print the space\n",
    "for i in range(0, rows):                 # Outer loop to print number of rows    \n",
    "    for j in range(0, k):                # Inner loop is used to print number of space  \n",
    "        print(end=\"    \")    \n",
    "    k = k - 1                            # Decrement in k after each iteration  \n",
    "    for j in range(0, i + 1):            # This inner loop is used to print stars\n",
    "        print(\"ineuron\", end=\"   \")  \n",
    "    print(\"\")  \n",
    "#  triangle Pyramid  \n",
    "  \n",
    "k = rows - 1                             # It is used to print the space\n",
    "for i in range(rows, -1, -1):            # Output for triangle pyramid                        \n",
    "    for j in range(k, 0, -1):            # inner loop will print the spaces\n",
    "        print(end=\"    \")  \n",
    "    k = k + 1                            # Increment in k after each iteration \n",
    "    for j in range(0, i + 1):             # This inner loop will print number of stars \n",
    "        print(\"ineuron\", end=\"   \")  \n",
    "    print(\"\")  "
   ]
  },
  {
   "cell_type": "code",
   "execution_count": 2,
   "id": "98a843a2",
   "metadata": {},
   "outputs": [],
   "source": [
    "l = [[1,2,3,4], (2,3,4,5,6), (3,4,5,6,7), set([23,4,45,4,4,45,45,4,5]), {'k1' : \"sudh\", \"k2\" : \"ineuron\", \"k3\" :\"kumar\", 3:6,7:8}, [\"ineuron\", \"data science\"]]"
   ]
  },
  {
   "cell_type": "markdown",
   "id": "c222cd54",
   "metadata": {},
   "source": [
    "Q3: Try to extract all the list entity? \n"
   ]
  },
  {
   "cell_type": "code",
   "execution_count": 25,
   "id": "de963459",
   "metadata": {},
   "outputs": [
    {
     "name": "stdout",
     "output_type": "stream",
     "text": [
      "[1, 2, 3, 4]\n",
      "['ineuron', 'data science']\n"
     ]
    }
   ],
   "source": [
    "for i in l:\n",
    "    if type(i) == list  : \n",
    "        print(i)"
   ]
  },
  {
   "cell_type": "markdown",
   "id": "04d03f86",
   "metadata": {},
   "source": [
    "Q4: Try to extract all the dict entity?"
   ]
  },
  {
   "cell_type": "code",
   "execution_count": 26,
   "id": "86014141",
   "metadata": {},
   "outputs": [
    {
     "name": "stdout",
     "output_type": "stream",
     "text": [
      "{'k1': 'sudh', 'k2': 'ineuron', 'k3': 'kumar', 3: 6, 7: 8}\n"
     ]
    }
   ],
   "source": [
    "for i in l:\n",
    "    if type(i) == dict  : \n",
    "        print(i)"
   ]
  },
  {
   "cell_type": "markdown",
   "id": "cd784eb7",
   "metadata": {},
   "source": [
    "Q5: Try to extract all the tuples entity?"
   ]
  },
  {
   "cell_type": "code",
   "execution_count": 27,
   "id": "1feb1b5c",
   "metadata": {},
   "outputs": [
    {
     "name": "stdout",
     "output_type": "stream",
     "text": [
      "(2, 3, 4, 5, 6)\n",
      "(3, 4, 5, 6, 7)\n"
     ]
    }
   ],
   "source": [
    "for i in l:\n",
    "    if type(i) == tuple  : \n",
    "        print(i)"
   ]
  },
  {
   "cell_type": "markdown",
   "id": "e7829011",
   "metadata": {},
   "source": [
    "Q6 Try to extract all the numerical data it may b a part of dict key and values"
   ]
  },
  {
   "cell_type": "code",
   "execution_count": 3,
   "id": "dbb3e5ed",
   "metadata": {},
   "outputs": [
    {
     "name": "stdout",
     "output_type": "stream",
     "text": [
      "1\n",
      "2\n",
      "3\n",
      "4\n",
      "2\n",
      "3\n",
      "4\n",
      "5\n",
      "6\n",
      "3\n",
      "4\n",
      "5\n",
      "6\n",
      "7\n",
      "5\n",
      "4\n",
      "45\n",
      "23\n",
      "3\n",
      "6\n",
      "7\n",
      "8\n"
     ]
    }
   ],
   "source": [
    "for i in l:\n",
    "    if type(i) == list or type(i) == tuple  or type(i) == set:\n",
    "        for j in i:\n",
    "            if type(j) == int :\n",
    "                print(j)\n",
    "    if type(i) == dict:\n",
    "        for k,v in i.items() :\n",
    "             if type(k) == int or type(v) == int :\n",
    "                print(k)\n",
    "                print(v)"
   ]
  },
  {
   "cell_type": "markdown",
   "id": "8833ce33",
   "metadata": {},
   "source": [
    "Q7 : Try to give summation of all the numeric data "
   ]
  },
  {
   "cell_type": "code",
   "execution_count": 6,
   "id": "6f53feb6",
   "metadata": {},
   "outputs": [],
   "source": [
    "l1 = []\n",
    "for i in l:\n",
    "    if type(i) == list or type(i) == tuple  or type(i) == set:\n",
    "        for j in i:\n",
    "            if type(j) == int :\n",
    "                l1.append(j)\n",
    "                # print(j)\n",
    "    if type(i) == dict:\n",
    "        for k,v in i.items() :\n",
    "             if type(k) == int or type(v) == int :\n",
    "                # print(k)\n",
    "                # print(v)\n",
    "                l1.append(k)\n",
    "                l1.append(v)\n",
    "                "
   ]
  },
  {
   "cell_type": "code",
   "execution_count": 7,
   "id": "cb912e15",
   "metadata": {},
   "outputs": [
    {
     "data": {
      "text/plain": [
       "[1, 2, 3, 4, 2, 3, 4, 5, 6, 3, 4, 5, 6, 7, 5, 4, 45, 23, 3, 6, 7, 8]"
      ]
     },
     "execution_count": 7,
     "metadata": {},
     "output_type": "execute_result"
    }
   ],
   "source": [
    "l1"
   ]
  },
  {
   "cell_type": "code",
   "execution_count": 8,
   "id": "c1879f15",
   "metadata": {},
   "outputs": [
    {
     "name": "stdout",
     "output_type": "stream",
     "text": [
      "178\n"
     ]
    }
   ],
   "source": [
    "Sum = sum(l1, 22)\n",
    "print(Sum)"
   ]
  },
  {
   "cell_type": "markdown",
   "id": "097209fe",
   "metadata": {},
   "source": [
    "Q8 : Try to filter out all the odd values out all numeric data which is a part of a list"
   ]
  },
  {
   "cell_type": "code",
   "execution_count": 19,
   "id": "84bb9c34",
   "metadata": {},
   "outputs": [
    {
     "name": "stdout",
     "output_type": "stream",
     "text": [
      "1\n",
      "3\n",
      "3\n",
      "5\n",
      "3\n",
      "5\n",
      "7\n",
      "5\n",
      "45\n",
      "23\n",
      "3\n",
      "7\n"
     ]
    }
   ],
   "source": [
    "\n",
    "for i in l:\n",
    "    if type(i) == list or type(i) == tuple  or type(i) == set:\n",
    "        for j in i:\n",
    "            if type(j) == int and j %2 != 0 :     \n",
    "                print(j)\n",
    "    if type(i) == dict:\n",
    "        for k,v in i.items() :\n",
    "            if type(k) == int  and  k %2 != 0 :\n",
    "                    print(k)\n",
    "            if type(v) == int  and v %2 != 0  :\n",
    "                    print(v)"
   ]
  },
  {
   "cell_type": "markdown",
   "id": "b72f7910",
   "metadata": {},
   "source": [
    "Q9 : Try to extract \"ineruon\" out of this data"
   ]
  },
  {
   "cell_type": "code",
   "execution_count": 125,
   "id": "638749ee",
   "metadata": {},
   "outputs": [
    {
     "name": "stdout",
     "output_type": "stream",
     "text": [
      "ineuron\n",
      "ineuron\n"
     ]
    }
   ],
   "source": [
    "for i in l :\n",
    "    if type(i) == list or type(i) == tuple :\n",
    "        for j in i :\n",
    "            if j == \"ineuron\" :\n",
    "                print(j)\n",
    "    if type(i) == dict :\n",
    "        for k,v  in i.items():\n",
    "            if k == \"ineuron\" or v == \"ineuron\" :\n",
    "                print(v)\n",
    "        "
   ]
  },
  {
   "cell_type": "raw",
   "id": "54a92693",
   "metadata": {},
   "source": [
    "Q10 :Try to find out a number of occurances of all the data"
   ]
  },
  {
   "cell_type": "code",
   "execution_count": 20,
   "id": "ba179b9d",
   "metadata": {},
   "outputs": [
    {
     "data": {
      "text/plain": [
       "{1, 2, 3, 4, 5, 6, 7, 8, 23, 45}"
      ]
     },
     "execution_count": 20,
     "metadata": {},
     "output_type": "execute_result"
    }
   ],
   "source": [
    "set(l1)"
   ]
  },
  {
   "cell_type": "code",
   "execution_count": 21,
   "id": "fae3539e",
   "metadata": {},
   "outputs": [
    {
     "name": "stdout",
     "output_type": "stream",
     "text": [
      "1 : 1\n",
      "2 : 2\n",
      "3 : 4\n",
      "4 : 4\n",
      "5 : 3\n",
      "6 : 3\n",
      "7 : 2\n",
      "8 : 1\n",
      "45 : 1\n",
      "23 : 1\n"
     ]
    }
   ],
   "source": [
    "for i in set(l1):\n",
    "    print(i, \":\" , l1.count(i))"
   ]
  },
  {
   "cell_type": "markdown",
   "id": "06e7b1fb",
   "metadata": {},
   "source": [
    "Q11 : Try to find out number of keys in dict element"
   ]
  },
  {
   "cell_type": "code",
   "execution_count": 189,
   "id": "3dd63779",
   "metadata": {},
   "outputs": [
    {
     "name": "stdout",
     "output_type": "stream",
     "text": [
      "5\n"
     ]
    }
   ],
   "source": [
    "\n",
    "for i in l :\n",
    "    if type(i) == dict :\n",
    "        for k,v in i.items(): \n",
    "                print(len(i.keys()))\n",
    "                break"
   ]
  },
  {
   "cell_type": "markdown",
   "id": "108966f5",
   "metadata": {},
   "source": [
    "Q12 : Try to filter out all the string data "
   ]
  },
  {
   "cell_type": "code",
   "execution_count": 190,
   "id": "95525d3e",
   "metadata": {},
   "outputs": [
    {
     "name": "stdout",
     "output_type": "stream",
     "text": [
      "k1\n",
      "sudh\n",
      "k2\n",
      "ineuron\n",
      "k3\n",
      "kumar\n",
      "ineuron\n",
      "data science\n"
     ]
    }
   ],
   "source": [
    "for i in l:\n",
    "    if type(i) == list or type(i) == tuple  or type(i) == set:\n",
    "        for j in i:\n",
    "            if type(j) == str :     \n",
    "                print(j)\n",
    "    if type(i) == dict:\n",
    "        for k,v in i.items() :\n",
    "             if type(k) == str or type(v) == str :\n",
    "                print(k)\n",
    "                print(v)"
   ]
  },
  {
   "cell_type": "markdown",
   "id": "92d2455f",
   "metadata": {},
   "source": [
    "Q13 : Try to Find  out alphanum in data"
   ]
  },
  {
   "cell_type": "code",
   "execution_count": 44,
   "id": "d3317182",
   "metadata": {},
   "outputs": [
    {
     "name": "stdout",
     "output_type": "stream",
     "text": [
      "k1\n",
      "sudh\n",
      "k2\n",
      "ineuron\n",
      "k3\n",
      "kumar\n",
      "ineuron\n"
     ]
    }
   ],
   "source": [
    "for i in l:\n",
    "    if type(i) == list or type(i) == tuple  or type(i) == set:\n",
    "        for j in i:\n",
    "            if type(j) == str :  \n",
    "                if j.isalnum() == True:\n",
    "                    print(j)\n",
    "    if type(i) == dict:\n",
    "        for k,v in i.items() :\n",
    "             if type(k) == str or type(v) == str :\n",
    "                if k.isalnum() == True or v.isalnum() == True:\n",
    "                    print(k)\n",
    "                    print(v)"
   ]
  },
  {
   "cell_type": "markdown",
   "id": "c4baf294",
   "metadata": {},
   "source": [
    "Q14  : Try to find out multiplication of all numeric value in  the individual collection inside dataset"
   ]
  },
  {
   "cell_type": "code",
   "execution_count": null,
   "id": "59c0aaf4",
   "metadata": {},
   "outputs": [],
   "source": [
    "l = [[1,2,3,4], (2,3,4,5,6), (3,4,5,6,7), set([23,4,45,4,4,45,45,4,5]), \n",
    "     {'k1' : \"sudh\", \"k2\" : \"ineuron\", \"k3\" :\"kumar\", 3:6,7:8}, [\"ineuron\", \"data science\"]]"
   ]
  },
  {
   "cell_type": "code",
   "execution_count": 68,
   "id": "7c6608bd",
   "metadata": {},
   "outputs": [
    {
     "name": "stdout",
     "output_type": "stream",
     "text": [
      "Tuple: 1814400  Set: 20700  Dict:  1008\n"
     ]
    }
   ],
   "source": [
    "Tuple = 1\n",
    "Set = 1\n",
    "Dict = 1\n",
    "for i in l:\n",
    "  if type(i) == tuple:\n",
    "    for j in i:\n",
    "      if type(j) == int:\n",
    "        Tuple = Tuple * j\n",
    "        #print(result_tuple)\n",
    "  if type(i) == set:\n",
    "    for j in i:\n",
    "      if type(j) == int:\n",
    "        Set = Set * j\n",
    "  if type(i) == dict:\n",
    "    for k,v in i.items():\n",
    "      if type(k) == int:\n",
    "        Dict = Dict * k\n",
    "      if type(v) == int:\n",
    "        Dict = Dict * v\n",
    "\n",
    "print(\"Tuple:\", Tuple, \" Set:\", Set,\" Dict: \", Dict)"
   ]
  },
  {
   "cell_type": "markdown",
   "id": "c0d66b97",
   "metadata": {},
   "source": [
    "Q15 : Try to unwrape all the collection inside collection and create a flat list "
   ]
  },
  {
   "cell_type": "code",
   "execution_count": 270,
   "id": "6b52dd0d",
   "metadata": {},
   "outputs": [],
   "source": [
    "flat_list = []\n",
    "for i in l:\n",
    "    for item in i:\n",
    "        flat_list.append(item)"
   ]
  },
  {
   "cell_type": "code",
   "execution_count": 271,
   "id": "a1654ddc",
   "metadata": {},
   "outputs": [
    {
     "data": {
      "text/plain": [
       "[1,\n",
       " 2,\n",
       " 3,\n",
       " 4,\n",
       " 2,\n",
       " 3,\n",
       " 4,\n",
       " 5,\n",
       " 6,\n",
       " 3,\n",
       " 4,\n",
       " 5,\n",
       " 6,\n",
       " 7,\n",
       " 5,\n",
       " 4,\n",
       " 45,\n",
       " 23,\n",
       " 'k1',\n",
       " 'k2',\n",
       " 'k3',\n",
       " 3,\n",
       " 7,\n",
       " 'ineuron',\n",
       " 'data science']"
      ]
     },
     "execution_count": 271,
     "metadata": {},
     "output_type": "execute_result"
    }
   ],
   "source": [
    "flat_list"
   ]
  }
 ],
 "metadata": {
  "kernelspec": {
   "display_name": "Python 3 (ipykernel)",
   "language": "python",
   "name": "python3"
  },
  "language_info": {
   "codemirror_mode": {
    "name": "ipython",
    "version": 3
   },
   "file_extension": ".py",
   "mimetype": "text/x-python",
   "name": "python",
   "nbconvert_exporter": "python",
   "pygments_lexer": "ipython3",
   "version": "3.9.12"
  }
 },
 "nbformat": 4,
 "nbformat_minor": 5
}
